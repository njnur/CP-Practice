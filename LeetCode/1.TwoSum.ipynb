{
 "cells": [
  {
   "cell_type": "markdown",
   "id": "ed202363-2758-45e7-b871-a6759a481f95",
   "metadata": {},
   "source": [
    "### Problem Statement:\n",
    "\n",
    "Given an array of integers nums and an integer target, return indices of the two numbers such that they add up to target.\n",
    "You may assume that each input would have exactly one solution, and you may not use the same element twice.\n",
    "You can return the answer in any order.\n",
    "\n",
    "```\n",
    "Example 1:\n",
    "    Input: nums = [2,7,11,15], target = 9\n",
    "    Output: [0,1]\n",
    "    Output: Because nums[0] + nums[1] == 9, we return [0, 1].\n",
    "Example 2:\n",
    "    Input: nums = [3,2,4], target = 6\n",
    "    Output: [1,2]\n",
    "Example 3:\n",
    "    Input: nums = [3,3], target = 6\n",
    "    Output: [0,1]\n",
    "```\n",
    "\n",
    "```\n",
    "Constraints:\n",
    "    2 <= nums.length <= 103\n",
    "    -109 <= nums[i] <= 109\n",
    "    -109 <= target <= 109\n",
    "    Only one valid answer exists.\n",
    "```\n",
    "\n",
    "LeetCode problem URL: https://leetcode.com/problems/two-sum/"
   ]
  },
  {
   "cell_type": "markdown",
   "id": "4dc688db",
   "metadata": {},
   "source": [
    "### Solution Approach:\n",
    "\n",
    "**Brute Force**: Runs through every possible pair of elements. If any of the pair's sum matches the target, solution is achieved.  \n",
    "\n",
    "Complexity: O(n²)"
   ]
  },
  {
   "cell_type": "code",
   "execution_count": 9,
   "id": "505f5d8f-2d77-4548-a5d7-66edee1ede94",
   "metadata": {},
   "outputs": [],
   "source": [
    "from typing import List, Any\n",
    "\n",
    "\n",
    "def two_sum_bruteforce(nums: List[int], target: int) -> Any:\n",
    "    for index_1 in range(0, len(nums)):\n",
    "        num_to_find = target - nums[index_1]\n",
    "        for index_2 in range(index_1+1, len(nums)):\n",
    "            if num_to_find == nums[index_2]:\n",
    "                return [index_1, index_2]\n",
    "    return None"
   ]
  },
  {
   "cell_type": "markdown",
   "id": "e294190d",
   "metadata": {},
   "source": [
    "**Two Pointer Technique** -> More on this [link](https://medium.com/swlh/two-pointer-technique-solving-array-problems-at-light-speed-56a77ee83d16)  \n",
    "\n",
    "Complexity: O(n)  "
   ]
  },
  {
   "cell_type": "code",
   "execution_count": 10,
   "id": "b9e922cb",
   "metadata": {},
   "outputs": [
    {
     "name": "stdout",
     "output_type": "stream",
     "text": [
      "[0, 2]\n"
     ]
    }
   ],
   "source": [
    "def two_sum_hash_table(nums: List[int], target: int) -> Any:\n",
    "    hash_table = {}\n",
    "\n",
    "    for i in range(len(nums)):\n",
    "        complement = target - nums[i]\n",
    "        if complement in hash_table:\n",
    "            return i, hash_table[complement]\n",
    "        else:\n",
    "            hash_table[nums[i]] = i\n",
    "    return None\n",
    "\n",
    "\n",
    "if __name__ == '__main__':\n",
    "    print(two_sum_bruteforce(\n",
    "        nums=[3, 2, 3],\n",
    "        target=6\n",
    "    ))"
   ]
  },
  {
   "cell_type": "code",
   "execution_count": null,
   "id": "340c83fa",
   "metadata": {},
   "outputs": [],
   "source": []
  }
 ],
 "metadata": {
  "kernelspec": {
   "display_name": "Python 3 (ipykernel)",
   "language": "python",
   "name": "python3"
  },
  "language_info": {
   "codemirror_mode": {
    "name": "ipython",
    "version": 3
   },
   "file_extension": ".py",
   "mimetype": "text/x-python",
   "name": "python",
   "nbconvert_exporter": "python",
   "pygments_lexer": "ipython3",
   "version": "3.9.1"
  }
 },
 "nbformat": 4,
 "nbformat_minor": 5
}