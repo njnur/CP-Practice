{
 "cells": [
  {
   "cell_type": "markdown",
   "id": "ed202363-2758-45e7-b871-a6759a481f95",
   "metadata": {},
   "source": [
    "### Problem Statement:\n",
    "\n",
    "You are given an integer array `height` of length `n`. There are `n` vertical lines drawn such that the two endpoints of the `ith` line are `(i, 0)` and `(i, height[i])`.\n",
    "\n",
    "Find two lines that together with the x-axis form a container, such that the container contains the most water.\n",
    "\n",
    "Return the maximum amount of water a container can store.\n",
    "\n",
    "**Notice** that you may not slant the container.\n",
    "\n",
    "![Container with Most Water](/Images/ContainerWithMostWater.jpeg)\n",
    "\n",
    "**Example 1:**\n",
    "```\n",
    "Input: height = [1,8,6,2,5,4,8,3,7]\n",
    "Output: 49\n",
    "Explanation: The above vertical lines are represented by array [1,8,6,2,5,4,8,3,7]. In this case, the max area of water (blue section) the container can contain is 49.\n",
    "```\n",
    "\n",
    "**Example 2:**\n",
    "```\n",
    "Input: height = [1,1]\n",
    "Output: 1\n",
    "```\n",
    "\n",
    "**Constraints:**\n",
    "```\n",
    "n == height.length\n",
    "2 <= n <= 105\n",
    "0 <= height[i] <= 104\n",
    "```\n",
    "\n",
    "LeetCode problem URL: https://leetcode.com/problems/container-with-most-water/"
   ]
  },
  {
   "cell_type": "markdown",
   "id": "4dc688db",
   "metadata": {},
   "source": [
    "### Solution Approach:\n",
    "\n",
    "**Brute Force**: Runs through every possible pair of elements. If any of the pair's sum matches the target, solution is achieved.  \n",
    "\n",
    "Complexity: O(n²)"
   ]
  },
  {
   "cell_type": "code",
   "execution_count": 1,
   "id": "505f5d8f-2d77-4548-a5d7-66edee1ede94",
   "metadata": {},
   "outputs": [],
   "source": [
    "from typing import List, Any\n",
    "\n",
    "\n",
    "def two_sum_bruteforce(nums: List[int], target: int) -> Any:\n",
    "    for num_1_index in range(0, len(nums)):\n",
    "        for num_2_index in range(1, len(nums)):\n",
    "            if target == nums[num_1_index] + nums[num_2_index]:\n",
    "                return [num_1_index, num_2_index]\n",
    "    return None"
   ]
  },
  {
   "cell_type": "markdown",
   "id": "e294190d",
   "metadata": {},
   "source": [
    "**Two Pointer Technique** -> More on this [link](https://medium.com/swlh/two-pointer-technique-solving-array-problems-at-light-speed-56a77ee83d16)  \n",
    "\n",
    "Complexity: O(n²)"
   ]
  },
  {
   "cell_type": "code",
   "execution_count": 2,
   "id": "b9e922cb",
   "metadata": {},
   "outputs": [
    {
     "ename": "IndentationError",
     "evalue": "expected an indented block (1378920518.py, line 15)",
     "output_type": "error",
     "traceback": [
      "\u001B[0;36m  File \u001B[0;32m\"/var/folders/cd/7z8mk_s11d9_t5h1rbst63n80000gn/T/ipykernel_1810/1378920518.py\"\u001B[0;36m, line \u001B[0;32m15\u001B[0m\n\u001B[0;31m    if __name__ == '__main__':\u001B[0m\n\u001B[0m                              ^\u001B[0m\n\u001B[0;31mIndentationError\u001B[0m\u001B[0;31m:\u001B[0m expected an indented block\n"
     ]
    }
   ],
   "source": [
    "def two_sum_pointer_technique(nums: List[int], target: int) -> Any:\n",
    "    for index_1 in range(0, len(nums)):\n",
    "        num_to_find = target - nums[index_1]\n",
    "        for index_2 in range(index_1+1, len(nums)):\n",
    "            if num_to_find == nums[index_2]:\n",
    "                return [index_1, index_2]\n",
    "    return None\n",
    "\n",
    "\n",
    "def two_sum_hash_table(nums: List[int], target: int) -> Any:\n",
    "    hash_table = {}\n",
    "\n",
    "    for i in range(len(nums)):\n",
    " \n",
    "if __name__ == '__main__':\n",
    "    print(two_sum_bruteforce(\n",
    "        nums=[3, 2, 3],\n",
    "        target=6\n",
    "    ))"
   ]
  }
 ],
 "metadata": {
  "kernelspec": {
   "display_name": "Python 3 (ipykernel)",
   "language": "python",
   "name": "python3"
  },
  "language_info": {
   "codemirror_mode": {
    "name": "ipython",
    "version": 3
   },
   "file_extension": ".py",
   "mimetype": "text/x-python",
   "name": "python",
   "nbconvert_exporter": "python",
   "pygments_lexer": "ipython3",
   "version": "3.9.1"
  }
 },
 "nbformat": 4,
 "nbformat_minor": 5
}